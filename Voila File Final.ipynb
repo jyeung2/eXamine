{
 "cells": [
  {
   "cell_type": "code",
   "execution_count": 1,
   "metadata": {},
   "outputs": [],
   "source": [
    "# import datetime\n",
    "# import json\n",
    "# import os\n",
    "# from io import StringIO\n",
    "# from statistics import mean\n",
    "\n",
    "# import gpxpy\n",
    "# import srtm\n",
    "\n",
    "# from bqplot import Axis, Figure, Lines, LinearScale\n",
    "# from bqplot.interacts import IndexSelector\n",
    "# from ipyleaflet import basemaps, FullScreenControl, LayerGroup, Map, MeasureControl, Polyline, Marker, CircleMarker, WidgetControl\n",
    "from ipywidgets import Button, HTML, HBox, VBox, Checkbox, FileUpload, Label, Output, IntSlider, Layout, Image, link\n",
    "import ipywidgets as widgets"
   ]
  },
  {
   "cell_type": "code",
   "execution_count": 2,
   "metadata": {},
   "outputs": [],
   "source": [
    "# upload the model with its weights\n",
    "# model = ..."
   ]
  },
  {
   "cell_type": "code",
   "execution_count": 3,
   "metadata": {},
   "outputs": [
    {
     "data": {
      "application/vnd.jupyter.widget-view+json": {
       "model_id": "e5fc9b7b3ea145fcbefb98c4ba16b363",
       "version_major": 2,
       "version_minor": 0
      },
      "text/plain": [
       "Image(value=b'\\x89PNG\\r\\n\\x1a\\n\\x00\\x00\\x00\\rIHDR\\x00\\x00\\x01}\\x00\\x00\\x00z\\x08\\x06\\x00\\x00\\x00S\\x0b\\x83]\\x00\\…"
      ]
     },
     "metadata": {},
     "output_type": "display_data"
    }
   ],
   "source": [
    "with open('eXamine.png', 'rb') as f:\n",
    "        image = f.read()\n",
    "examine_logo = Image(value=image, format='png',layout=Layout(padding='10px'))\n",
    "display(examine_logo)"
   ]
  },
  {
   "cell_type": "code",
   "execution_count": 4,
   "metadata": {},
   "outputs": [
    {
     "data": {
      "application/vnd.jupyter.widget-view+json": {
       "model_id": "e55ab903cc994672b216e3ef24f9b8b8",
       "version_major": 2,
       "version_minor": 0
      },
      "text/plain": [
       "HBox(children=(Label(value='Powered by:'), Image(value=b'\\x89PNG\\r\\n\\x1a\\n\\x00\\x00\\x00\\rIHDR\\x00\\x00\\x00N\\x00\\…"
      ]
     },
     "metadata": {},
     "output_type": "display_data"
    }
   ],
   "source": [
    "tools = [\"voila\", \"ipywidgets\"]\n",
    "logos = []\n",
    "for tool in tools:\n",
    "    with open(f'{tool}.png', 'rb') as f:\n",
    "        image = f.read()\n",
    "    img = Image(value=image, format='png',layout=Layout(padding='20px'))\n",
    "    logos.append(img)\n",
    "HBox([Label(value='Powered by:')] + logos, layout=Layout(flex_flow='row', align_items='center'))"
   ]
  },
  {
   "cell_type": "code",
   "execution_count": 6,
   "metadata": {},
   "outputs": [],
   "source": [
    "import pickle\n",
    "from tensorflow.keras import layers\n",
    "from tensorflow.keras import Model\n",
    "from tensorflow.keras.optimizers import RMSprop\n",
    "from tensorflow.keras.optimizers import SGD\n",
    "from tensorflow.keras.optimizers import Adam\n",
    "from sklearn.preprocessing import label_binarize\n",
    "from tensorflow.keras.layers import Conv2D, add\n",
    "from PIL import Image\n",
    "from tensorflow.keras.preprocessing.image import array_to_img, img_to_array,load_img\n",
    "\n",
    "filename = 'model_weights_430.pickle'\n",
    "infile = open(filename,'rb')\n",
    "w_old_unpickled = pickle.load(infile)\n",
    "infile.close()\n",
    "\n",
    "img_input = layers.Input(shape=(150, 150, 3))\n",
    "\n",
    "x = layers.Conv2D(16, 3, activation='relu')(img_input)\n",
    "x = layers.MaxPooling2D(2)(x)\n",
    "\n",
    "x = layers.Conv2D(32, 3, activation='relu')(x)\n",
    "x = layers.MaxPooling2D(2)(x)\n",
    "\n",
    "x = layers.Convolution2D(64, 3, activation='relu')(x)\n",
    "x = layers.MaxPooling2D(2)(x)\n",
    "\n",
    "#x = residual_module(x, 64)\n",
    "\n",
    "x = layers.Flatten()(x)\n",
    "x = layers.Dense(1000, activation='relu')(x)\n",
    "x = layers.Dropout(0.5)(x)\n",
    "\n",
    "output = layers.Dense(3, activation='softmax')(x)\n",
    "\n",
    "model = Model(img_input, output)\n",
    "model.compile(loss='categorical_crossentropy', optimizer=RMSprop(lr=0.001), metrics=['acc'])\n",
    "\n",
    "model.set_weights(w_old_unpickled)\n",
    "\n",
    "def predict_img(img):\n",
    "    # resize the img to match img_input\n",
    "    img_test = load_img(img, target_size=(150, 150))\n",
    "    img_test = img_to_array(content)\n",
    "    img_test = img_test.reshape((1,) + (1, 150, 150, 3))\n",
    "    res = model.predict(img_test)\n",
    "    print('benign confidence: {0}%'.format(res[0]))\n",
    "    print('malignant confidence: {0}%'.format(res[1]))\n",
    "    print('normal confidence: {0}%'.format(res[2]))"
   ]
  },
  {
   "cell_type": "code",
   "execution_count": 46,
   "metadata": {},
   "outputs": [],
   "source": [
    "def confidence_bars(res):\n",
    "    # layout = widgets.Layout(width='auto', height='40px')\n",
    "    # style = {'description_width: 'initial'}\n",
    "\n",
    "    normal_percent_confidence = res[2]*100\n",
    "    malignant_percent_confidence = res[1]*100\n",
    "    benign_percent_confidence = res[0]*100\n",
    "\n",
    "    all_confidences = [normal_percent_confidence, malignant_percent_confidence, benign_percent_confidence]\n",
    "\n",
    "    if np.max(all_confidences) == normal_percent_confidence:\n",
    "        normal_color = 'green'\n",
    "    if np.min(all_confidences) == normal_percent_confidence:\n",
    "        normal_color = 'red'\n",
    "    if np.max(all_confidences) != normal_percent_confidence and np.min(all_confidences) != normal_percent_confidence: \n",
    "        normal_color = 'yellow'\n",
    "\n",
    "    if np.max(all_confidences) == malignant_percent_confidence:\n",
    "        malignant_color = 'green'\n",
    "    if np.min(all_confidences) == malignant_percent_confidence:\n",
    "        malignant_color = 'red'\n",
    "    if np.max(all_confidences) != malignant_percent_confidence and np.min(all_confidences) != malignant_percent_confidence:\n",
    "        malignant_color = 'yellow'\n",
    "\n",
    "    if np.max(all_confidences) == benign_percent_confidence:\n",
    "        benign_color = 'green'\n",
    "    if np.min(all_confidences) == benign_percent_confidence:\n",
    "        benign_color = 'red'\n",
    "    if np.max(all_confidences) != benign_percent_confidence and np.min(all_confidences) != benign_percent_confidence:\n",
    "        benign_color = 'yellow'\n",
    "\n",
    "\n",
    "\n",
    "\n",
    "    normalc = widgets.IntProgress(\n",
    "        value=normal_percent_confidence,\n",
    "        min=0,\n",
    "        max=100,\n",
    "        # description='Normal Confidence:',\n",
    "        bar_style='', # 'success', 'info', 'warning', 'danger' or ''\n",
    "        style={'bar_color': normal_color},\n",
    "        orientation='horizontal',\n",
    "        # style = style\n",
    "    )\n",
    "    malignantc = widgets.IntProgress(\n",
    "        value=malignant_percent_confidence,\n",
    "        min=0,\n",
    "        max=100,\n",
    "        # description='Malignant Confidence:',\n",
    "        bar_style='', # 'success', 'info', 'warning', 'danger' or ''\n",
    "        style={'bar_color': malignant_color},\n",
    "        orientation='horizontal',\n",
    "        # style = style\n",
    "    )\n",
    "    benignc = widgets.IntProgress(\n",
    "        value=benign_percent_confidence,\n",
    "        min=0,\n",
    "        max=100,\n",
    "        # description= str(benign_percent_confidence)+'%',\n",
    "        bar_style='', # 'success', 'info', 'warning', 'danger' or ''\n",
    "        style={'bar_color': benign_color},\n",
    "        orientation='horizontal',\n",
    "        # style=style\n",
    "    )\n",
    "\n",
    "    # widgets.VBox([normalc, malignantc, benignc])\n",
    "\n",
    "    display(widgets.VBox([widgets.HBox([widgets.Label('Normal Confidence: ' + str(normal_percent_confidence)+'% '), normalc]),\n",
    "                widgets.HBox([widgets.Label('Malignant Confidence: '+ str(malignant_percent_confidence)+'% '), malignantc]),\n",
    "                widgets.HBox([widgets.Label('Benign Confidence: '+str(benign_percent_confidence)+'% '), benignc])]))"
   ]
  },
  {
   "cell_type": "code",
   "execution_count": 59,
   "metadata": {},
   "outputs": [],
   "source": [
    "def generate_results(r):\n",
    "\n",
    "    normal_percent = int(r[2]*100)\n",
    "    benign_percent = int(r[0]*100)\n",
    "    malignant_percent = int(r[1]*100)\n",
    "\n",
    "    print(\"===========================\")\n",
    "    print(\"||    normal    ||   {0}% ||\".format(normal_percent))\n",
    "    print(\"===========================\")\n",
    "    print(\"||    benign    ||   {0}% ||\".format(benign_percent))\n",
    "    print(\"===========================\")\n",
    "    print(\"||   malignant  ||   {0}% ||\".format(malignant_percent))\n",
    "    print(\"===========================\")"
   ]
  },
  {
   "cell_type": "code",
   "execution_count": 60,
   "metadata": {},
   "outputs": [
    {
     "data": {
      "application/vnd.jupyter.widget-view+json": {
       "model_id": "9b6bb7cfe6764235b04e89e1c16b65d0",
       "version_major": 2,
       "version_minor": 0
      },
      "text/plain": [
       "Output()"
      ]
     },
     "metadata": {},
     "output_type": "display_data"
    }
   ],
   "source": [
    "out = Output()\n",
    "display(out)"
   ]
  },
  {
   "cell_type": "code",
   "execution_count": 61,
   "metadata": {},
   "outputs": [
    {
     "data": {
      "application/vnd.jupyter.widget-view+json": {
       "model_id": "d70e24c5c93141db8c7a56b02952d3e9",
       "version_major": 2,
       "version_minor": 0
      },
      "text/plain": [
       "FileUpload(value={}, description='Upload')"
      ]
     },
     "metadata": {},
     "output_type": "display_data"
    },
    {
     "data": {
      "application/vnd.jupyter.widget-view+json": {
       "model_id": "9b6bb7cfe6764235b04e89e1c16b65d0",
       "version_major": 2,
       "version_minor": 0
      },
      "text/plain": [
       "Output()"
      ]
     },
     "metadata": {},
     "output_type": "display_data"
    }
   ],
   "source": [
    "import numpy as np\n",
    "import PIL.Image as Image\n",
    "import io\n",
    "import base64\n",
    "\n",
    "uploader = widgets.FileUpload()\n",
    "display(uploader)\n",
    "\n",
    "def on_upload_change(change):\n",
    "    uploaded_file = uploader.value\n",
    "    #print(uploaded_file)\n",
    "    key = list(uploaded_file.keys())[0]\n",
    "    #print(key)\n",
    "    content = uploaded_file[key]['content']\n",
    "    display(out)\n",
    "    out.clear_output()\n",
    "    with out:\n",
    "        display(widgets.Image(value=content))\n",
    "        \n",
    "        \n",
    "        img_test=Image.open(io.BytesIO(content))\n",
    "        #img_test.show()\n",
    "        #img_test = img_test.convert('1')\n",
    "        size = (150,150)\n",
    "        img_test = img_test.resize(size)\n",
    "        img_test = img_to_array(img_test)\n",
    "        #print(img_test.shape)\n",
    "        img_test = img_test.reshape((1,) + img_test.shape)\n",
    "        res = model.predict(img_test)[0]\n",
    "        #print(res)\n",
    "        print()\n",
    "        generate_results(res)\n",
    "        print()\n",
    "        confidence_bars(res)\n",
    "        \n",
    "        \n",
    "uploader.observe(on_upload_change, names='_counter')"
   ]
  },
  {
   "cell_type": "code",
   "execution_count": 2,
   "metadata": {},
   "outputs": [
    {
     "data": {
      "application/vnd.jupyter.widget-view+json": {
       "model_id": "f3ba56ba6a95483c8d1fc461ae27e931",
       "version_major": 2,
       "version_minor": 0
      },
      "text/plain": [
       "Button(button_style='danger', description='Contact a Medical Professional', icon='check', layout=Layout(height…"
      ]
     },
     "metadata": {},
     "output_type": "display_data"
    }
   ],
   "source": [
    "layout = widgets.Layout(width='auto', height='40px') #set width and height\n",
    "\n",
    "button = widgets.Button(\n",
    "    description='Contact a Medical Professional',\n",
    "    disabled=False,\n",
    "    button_style='danger', # 'success', 'info', 'warning', 'danger' or ''\n",
    "    tooltip='Click me',\n",
    "    icon='check', # (FontAwesome names without the `fa-` prefix)\n",
    "    display='flex',\n",
    "    flex_flow='column',\n",
    "    align_items='stretch', \n",
    "    layout = layout,\n",
    "    value = 'https://www.cancer.org/treatment/support-programs-and-services.html'\n",
    ")        \n",
    "display(button)"
   ]
  },
  {
   "cell_type": "code",
   "execution_count": 41,
   "metadata": {},
   "outputs": [],
   "source": [
    "# uploaded_file = uploader.value\n",
    "# content = uploaded_file['benign+(1).png']['content']\n",
    "# display(widgets.Image(value=content))\n"
   ]
  },
  {
   "cell_type": "code",
   "execution_count": 27,
   "metadata": {},
   "outputs": [],
   "source": [
    "# uploader()"
   ]
  },
  {
   "cell_type": "code",
   "execution_count": 28,
   "metadata": {},
   "outputs": [],
   "source": [
    "# img =  widgets.HTML('<div id=\"img\" style=\"float:left\">'\n",
    "#                     '<img style=\"vertical-align:middle\" src=\"http://localhost:8888/notebooks/static/test_image.jpg\" alt=\"\">'                       \n",
    "#                     '</div>')\n",
    "# img"
   ]
  },
  {
   "cell_type": "code",
   "execution_count": 29,
   "metadata": {},
   "outputs": [],
   "source": [
    "# import pandas as pd\n",
    "# import ipywidgets as widgets\n",
    "# from ipywidgets import Layout\n",
    "\n",
    "# df = pd.read_csv('SF_Crimes.csv')\n",
    "# style = {'description_width': 'initial'}"
   ]
  },
  {
   "cell_type": "code",
   "execution_count": 30,
   "metadata": {},
   "outputs": [],
   "source": [
    "# limit_case = widgets.IntSlider(\n",
    "#     value=1000,\n",
    "#     min=100,\n",
    "#     max=5000,\n",
    "#     step=1,\n",
    "#     description='Max Number of Case:',\n",
    "#     disabled=False,\n",
    "#     style=style)\n",
    "\n",
    "# unique_district = df.PdDistrict.unique()"
   ]
  },
  {
   "cell_type": "code",
   "execution_count": 31,
   "metadata": {},
   "outputs": [],
   "source": [
    "# district = widgets.SelectMultiple(\n",
    "#     options = unique_district.tolist(),\n",
    "#     value = ['BAYVIEW', 'NORTHERN'],\n",
    "#     #rows=10,\n",
    "#     description='District',\n",
    "#     disabled=False,\n",
    "#     layout = Layout(width='50%', height='80px')\n",
    "# )"
   ]
  },
  {
   "cell_type": "code",
   "execution_count": 32,
   "metadata": {},
   "outputs": [],
   "source": [
    "# unique_cat = df.Category.unique()\n",
    "\n",
    "# category = widgets.SelectMultiple(\n",
    "#     options = unique_cat.tolist(),\n",
    "#     value = ['VANDALISM', 'ASSAULT', 'ROBBERY'],\n",
    "#     description='Criminal Case',\n",
    "#     disabled=False,\n",
    "#     style=style,\n",
    "#     layout = Layout(width='50%', height='80px')\n",
    "# )"
   ]
  },
  {
   "cell_type": "code",
   "execution_count": 33,
   "metadata": {},
   "outputs": [],
   "source": [
    "# category"
   ]
  },
  {
   "cell_type": "code",
   "execution_count": null,
   "metadata": {},
   "outputs": [],
   "source": []
  },
  {
   "cell_type": "code",
   "execution_count": null,
   "metadata": {},
   "outputs": [],
   "source": []
  }
 ],
 "metadata": {
  "kernelspec": {
   "display_name": "Python 3",
   "language": "python",
   "name": "python3"
  },
  "language_info": {
   "codemirror_mode": {
    "name": "ipython",
    "version": 3
   },
   "file_extension": ".py",
   "mimetype": "text/x-python",
   "name": "python",
   "nbconvert_exporter": "python",
   "pygments_lexer": "ipython3",
   "version": "3.8.3"
  }
 },
 "nbformat": 4,
 "nbformat_minor": 4
}
